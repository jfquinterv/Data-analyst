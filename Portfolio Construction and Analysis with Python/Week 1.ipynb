{
 "cells": [
  {
   "cell_type": "markdown",
   "id": "4654df3a-f155-41f1-a9f5-40e37e05a891",
   "metadata": {
    "tags": []
   },
   "source": [
    "# Week 1 \n",
    "## Returns\n",
    "\n",
    "**¿Why average returns is a bad indicator of returns?**\n",
    "\n",
    "He provides an example involving a set of 12 monthly returns from two assets, each yielding an average monthly return of $1\\%$ Firstly, there are differences in the behavior of both assets, given that one is more volatile than the other.\n",
    "\n",
    "If you had initially invested $\\$1000$\n",
    "in both assets, you would end up with different amounts in the last period, even though the average return of both assets is the same. This demonstrates why the average return is not a reliable indicator.\n",
    "\n",
    "**How do we characterize returns?**\n",
    "\n",
    "A return is essentially a profit you make if you had bought that asset, so we calculate it using the formula for percentage variation in prices:\n",
    "\n",
    "$R_{t,t+1} = \\frac{P_{t+1}-P_{t}}{P_{t}}$\n",
    "\n",
    "Alternatively, you can express a return in the `1+r`format \n",
    "\n",
    "$1+ R_{t,t+1}=\\frac{P_{t+1}}{P_{t}}$\n",
    "\n",
    "This form offers computational advantage and is equivalent.\n",
    "\n",
    "**How to include dividends in the returns formula?**\n",
    "\n",
    "let's say over this intervening period of $P_{t+1}$, $P_{t}$ there was some divident that the stock generated. \n",
    "\n",
    "you have to remenber to add that back to $P_{t+1}$ because at time `t+1` not only do you have the current price of the stock but you also have the money that you got as a divident.\n",
    "\n",
    "$R_{t,t+1}=\\frac{P_{t+1}+D_{t,t+1}-P_{t}}{P_{t}}$\n",
    "\n",
    "**How do we call a returns when i include dividents and how do we call a return when we don't include dividents?**\n",
    "\n",
    "When I include dividends into the equation, I call it total returns. When I don't include dividends, I call it price returns.\n",
    "\n",
    "you must be carefull when you download stock return information because the normally are expressed as total return not price returns.\n",
    "\n",
    "### Returns in combine time period \n",
    "\n",
    "\n",
    "\n",
    "**How do we calculate the return of a combined time period?**\n",
    "\n",
    "Let's say you have two time periods, T0 to T1 and T1 to T2. Each period has a return.\n",
    "\n",
    "It's straightforward if we use the return format 1 + r. We just have to consider it as the compounding of the returns over time. So if you have R1 as the return between T0 and T1, and R2 as the return between T1 and T2, the formula to calculate the return over the combined time period, in this case, the return between T0 and T2, is:\n",
    "\n",
    "$R_{t, t+2}=(1+R_{t,t+1})(1+R_{t+1,t+2})-1$\n",
    "\n",
    "**How do we compare returns over different time periods?**\n",
    "\n",
    "We do that with **annualization.**\n",
    "\n",
    "`We use the annualized return for almost everything that we do.`\n",
    "\n",
    "**What is meant by annualization?**\n",
    "\n",
    "An annualized return is the return that you would get if the return that you're looking have continued for a year.\n",
    "\n",
    "**Example\n",
    "\n",
    "**If I have a monthly return of 1%, what would the annualized return be?**\n",
    "\n",
    "$R_{12}=(1+0.01)^{12}-1$\n",
    "\n",
    "**If you have a quarterly return of 1%, what would the annualized return be?**\n",
    "\n",
    "$R_{4}=(1+0.01)^{4}-1$\n",
    "\n",
    "\n"
   ]
  },
  {
   "cell_type": "code",
   "execution_count": 2,
   "id": "e9690982-f236-434e-9686-57e608112fd5",
   "metadata": {},
   "outputs": [],
   "source": [
    "import numpy as np"
   ]
  },
  {
   "cell_type": "code",
   "execution_count": 8,
   "id": "f59319eb-f62a-4947-a46e-0f4c7ad4da90",
   "metadata": {},
   "outputs": [],
   "source": [
    "prices=pd.DataFrame({\"BLUE\":[2, 1.8, 2.3, 2.6],  #Diccionario\n",
    "                    \"ORANGE\":[6, 5, 5.9, 8]})"
   ]
  },
  {
   "cell_type": "markdown",
   "id": "50ece8e6-8ee4-43d9-85d9-b654b82262b5",
   "metadata": {},
   "source": [
    "A DataFrame is a type of data structure, which features both rows and columns. You can index each row and column in the DataFrame. To create a DataFrame in Python using the pandas library, one common method is to use a dictionary. In this dictionary, each key-value pair represents a column. The key is the column name, and the associated value is a list or array of values that will form the data in the column. The DataFrame we created earlier had two key-value pairs, corresponding to two columns named 'BLUE' and 'ORANGE'."
   ]
  },
  {
   "cell_type": "markdown",
   "id": "22b9015e-6c9f-497a-ac23-5255c676904b",
   "metadata": {},
   "source": [
    "In pandas, alignment is fundamental when performing operations on DataFrames. This alignment is based on the indices of the rows and columns. Let's dive into this concept with an example:"
   ]
  },
  {
   "cell_type": "code",
   "execution_count": 12,
   "id": "a1fe67b4-1a41-475c-9dc7-098926e0d0ce",
   "metadata": {},
   "outputs": [
    {
     "data": {
      "text/html": [
       "<div>\n",
       "<style scoped>\n",
       "    .dataframe tbody tr th:only-of-type {\n",
       "        vertical-align: middle;\n",
       "    }\n",
       "\n",
       "    .dataframe tbody tr th {\n",
       "        vertical-align: top;\n",
       "    }\n",
       "\n",
       "    .dataframe thead th {\n",
       "        text-align: right;\n",
       "    }\n",
       "</style>\n",
       "<table border=\"1\" class=\"dataframe\">\n",
       "  <thead>\n",
       "    <tr style=\"text-align: right;\">\n",
       "      <th></th>\n",
       "      <th>BLUE</th>\n",
       "      <th>ORANGE</th>\n",
       "    </tr>\n",
       "  </thead>\n",
       "  <tbody>\n",
       "    <tr>\n",
       "      <th>0</th>\n",
       "      <td>NaN</td>\n",
       "      <td>NaN</td>\n",
       "    </tr>\n",
       "    <tr>\n",
       "      <th>1</th>\n",
       "      <td>1.0</td>\n",
       "      <td>1.0</td>\n",
       "    </tr>\n",
       "    <tr>\n",
       "      <th>2</th>\n",
       "      <td>1.0</td>\n",
       "      <td>1.0</td>\n",
       "    </tr>\n",
       "    <tr>\n",
       "      <th>3</th>\n",
       "      <td>NaN</td>\n",
       "      <td>NaN</td>\n",
       "    </tr>\n",
       "  </tbody>\n",
       "</table>\n",
       "</div>"
      ],
      "text/plain": [
       "   BLUE  ORANGE\n",
       "0   NaN     NaN\n",
       "1   1.0     1.0\n",
       "2   1.0     1.0\n",
       "3   NaN     NaN"
      ]
     },
     "execution_count": 12,
     "metadata": {},
     "output_type": "execute_result"
    }
   ],
   "source": [
    "prices.iloc[1:]/prices.iloc[:-1]-1"
   ]
  },
  {
   "cell_type": "markdown",
   "id": "f7d8bce3-0cd4-47fa-9a79-48ac2a07f531",
   "metadata": {},
   "source": [
    "Here, iloc stands for \"integer-location based indexing\", which allows for selection by position.\n",
    "\n",
    "`prices.iloc[1:]` selects all rows starting from the row with index 1 to the end.\n",
    "`prices.iloc[:-1]` selects all rows from the start up to (but not including) the last row.\n",
    "\n",
    "When we attempt the subtraction, pandas aligns rows based on their indices. For instance, the row with index 1 from prices.iloc[1:] is aligned with the row with index 1 from prices.iloc[:-1]. Since they are the same, the result for this row is zero. The other rows don't find a matching index in the opposing DataFrame, and thus, their result is NaN (Not a Number), indicating a missing value.\n",
    "\n",
    "This behavior underscores the importance of being mindful of indices when performing operations on DataFrames in pandas\n",
    "\n",
    "How do we solve it?\n",
    "we use values it takes the dataframe pulls the values out and give you back a numpy matrix without the index stuff"
   ]
  },
  {
   "cell_type": "code",
   "execution_count": 13,
   "id": "0bf34dee-63f7-4c4e-a240-2772b917f480",
   "metadata": {},
   "outputs": [
    {
     "data": {
      "text/html": [
       "<div>\n",
       "<style scoped>\n",
       "    .dataframe tbody tr th:only-of-type {\n",
       "        vertical-align: middle;\n",
       "    }\n",
       "\n",
       "    .dataframe tbody tr th {\n",
       "        vertical-align: top;\n",
       "    }\n",
       "\n",
       "    .dataframe thead th {\n",
       "        text-align: right;\n",
       "    }\n",
       "</style>\n",
       "<table border=\"1\" class=\"dataframe\">\n",
       "  <thead>\n",
       "    <tr style=\"text-align: right;\">\n",
       "      <th></th>\n",
       "      <th>BLUE</th>\n",
       "      <th>ORANGE</th>\n",
       "    </tr>\n",
       "  </thead>\n",
       "  <tbody>\n",
       "    <tr>\n",
       "      <th>0</th>\n",
       "      <td>-0.100000</td>\n",
       "      <td>-0.166667</td>\n",
       "    </tr>\n",
       "    <tr>\n",
       "      <th>1</th>\n",
       "      <td>0.277778</td>\n",
       "      <td>0.180000</td>\n",
       "    </tr>\n",
       "    <tr>\n",
       "      <th>2</th>\n",
       "      <td>0.130435</td>\n",
       "      <td>0.355932</td>\n",
       "    </tr>\n",
       "  </tbody>\n",
       "</table>\n",
       "</div>"
      ],
      "text/plain": [
       "       BLUE    ORANGE\n",
       "0 -0.100000 -0.166667\n",
       "1  0.277778  0.180000\n",
       "2  0.130435  0.355932"
      ]
     },
     "execution_count": 13,
     "metadata": {},
     "output_type": "execute_result"
    }
   ],
   "source": [
    "prices.iloc[1:].values/prices.iloc[:-1]-1"
   ]
  },
  {
   "cell_type": "markdown",
   "id": "72ed0804-860e-4b82-a785-677a730e5578",
   "metadata": {},
   "source": [
    "In the operation `prices.iloc[1:].values / prices.iloc[:-1]`, only the left-hand expression uses the values attribute, converting it to a numpy array. Although the right-hand expression remains a DataFrame, it won't attempt alignment with the left-hand side. This is because the left-hand numpy array doesn't possess index labels, negating any alignment considerations with the right-hand DataFrame. it works because now it's just positional division."
   ]
  },
  {
   "cell_type": "markdown",
   "id": "5ac56f4b-d8a6-43ce-a2dd-282d788c62e8",
   "metadata": {},
   "source": [
    "we're trying to compute the return formula by divide the prices to the same price shifting down one row, thre's actually a method in python that allows us to shift it right away \n"
   ]
  },
  {
   "cell_type": "code",
   "execution_count": 17,
   "id": "a6ec376f-6c12-49eb-86a6-23c7379a0986",
   "metadata": {},
   "outputs": [
    {
     "data": {
      "text/html": [
       "<div>\n",
       "<style scoped>\n",
       "    .dataframe tbody tr th:only-of-type {\n",
       "        vertical-align: middle;\n",
       "    }\n",
       "\n",
       "    .dataframe tbody tr th {\n",
       "        vertical-align: top;\n",
       "    }\n",
       "\n",
       "    .dataframe thead th {\n",
       "        text-align: right;\n",
       "    }\n",
       "</style>\n",
       "<table border=\"1\" class=\"dataframe\">\n",
       "  <thead>\n",
       "    <tr style=\"text-align: right;\">\n",
       "      <th></th>\n",
       "      <th>BLUE</th>\n",
       "      <th>ORANGE</th>\n",
       "    </tr>\n",
       "  </thead>\n",
       "  <tbody>\n",
       "    <tr>\n",
       "      <th>0</th>\n",
       "      <td>NaN</td>\n",
       "      <td>NaN</td>\n",
       "    </tr>\n",
       "    <tr>\n",
       "      <th>1</th>\n",
       "      <td>-0.100000</td>\n",
       "      <td>-0.166667</td>\n",
       "    </tr>\n",
       "    <tr>\n",
       "      <th>2</th>\n",
       "      <td>0.277778</td>\n",
       "      <td>0.180000</td>\n",
       "    </tr>\n",
       "    <tr>\n",
       "      <th>3</th>\n",
       "      <td>0.130435</td>\n",
       "      <td>0.355932</td>\n",
       "    </tr>\n",
       "  </tbody>\n",
       "</table>\n",
       "</div>"
      ],
      "text/plain": [
       "       BLUE    ORANGE\n",
       "0       NaN       NaN\n",
       "1 -0.100000 -0.166667\n",
       "2  0.277778  0.180000\n",
       "3  0.130435  0.355932"
      ]
     },
     "execution_count": 17,
     "metadata": {},
     "output_type": "execute_result"
    }
   ],
   "source": [
    "r=prices/prices.shift(1)-1\n",
    "r"
   ]
  },
  {
   "cell_type": "markdown",
   "id": "ebe9e13a-52a1-4b2a-a431-d83f82fbdd46",
   "metadata": {},
   "source": [
    "essentially a return is a percentage change so we could use a method in DataFrame to compute percentage change"
   ]
  },
  {
   "cell_type": "code",
   "execution_count": 18,
   "id": "f8b87e25-67b0-40e4-916b-7ffd64e5c07a",
   "metadata": {},
   "outputs": [
    {
     "data": {
      "text/html": [
       "<div>\n",
       "<style scoped>\n",
       "    .dataframe tbody tr th:only-of-type {\n",
       "        vertical-align: middle;\n",
       "    }\n",
       "\n",
       "    .dataframe tbody tr th {\n",
       "        vertical-align: top;\n",
       "    }\n",
       "\n",
       "    .dataframe thead th {\n",
       "        text-align: right;\n",
       "    }\n",
       "</style>\n",
       "<table border=\"1\" class=\"dataframe\">\n",
       "  <thead>\n",
       "    <tr style=\"text-align: right;\">\n",
       "      <th></th>\n",
       "      <th>BLUE</th>\n",
       "      <th>ORANGE</th>\n",
       "    </tr>\n",
       "  </thead>\n",
       "  <tbody>\n",
       "    <tr>\n",
       "      <th>0</th>\n",
       "      <td>NaN</td>\n",
       "      <td>NaN</td>\n",
       "    </tr>\n",
       "    <tr>\n",
       "      <th>1</th>\n",
       "      <td>-0.100000</td>\n",
       "      <td>-0.166667</td>\n",
       "    </tr>\n",
       "    <tr>\n",
       "      <th>2</th>\n",
       "      <td>0.277778</td>\n",
       "      <td>0.180000</td>\n",
       "    </tr>\n",
       "    <tr>\n",
       "      <th>3</th>\n",
       "      <td>0.130435</td>\n",
       "      <td>0.355932</td>\n",
       "    </tr>\n",
       "  </tbody>\n",
       "</table>\n",
       "</div>"
      ],
      "text/plain": [
       "       BLUE    ORANGE\n",
       "0       NaN       NaN\n",
       "1 -0.100000 -0.166667\n",
       "2  0.277778  0.180000\n",
       "3  0.130435  0.355932"
      ]
     },
     "execution_count": 18,
     "metadata": {},
     "output_type": "execute_result"
    }
   ],
   "source": [
    "prices.pct_change()"
   ]
  },
  {
   "cell_type": "code",
   "execution_count": 10,
   "id": "786395b4-f48a-4c65-ab29-ababaf104ea8",
   "metadata": {},
   "outputs": [],
   "source": [
    "prices=pd.read_csv('Data/sample_prices.csv')"
   ]
  },
  {
   "cell_type": "code",
   "execution_count": 4,
   "id": "c289070c-e69d-4bb4-8b6e-2b124a9e672a",
   "metadata": {},
   "outputs": [],
   "source": [
    "returns=prices.pct_change()"
   ]
  },
  {
   "cell_type": "code",
   "execution_count": 22,
   "id": "48e750fe-7ecb-4df2-83a2-acda695a7d84",
   "metadata": {},
   "outputs": [
    {
     "data": {
      "text/plain": [
       "<AxesSubplot:>"
      ]
     },
     "execution_count": 22,
     "metadata": {},
     "output_type": "execute_result"
    },
    {
     "data": {
      "image/png": "[encoded data removed]",
      "text/plain": [
       "<Figure size 640x480 with 1 Axes>"
      ]
     },
     "metadata": {},
     "output_type": "display_data"
    }
   ],
   "source": [
    "returns.plot.bar()"
   ]
  },
  {
   "cell_type": "markdown",
   "id": "5b719fce-8c45-4d0c-a93f-071d01e30b11",
   "metadata": {},
   "source": [
    "i like looks the returns plots, when we plot it with a barplot."
   ]
  },
  {
   "cell_type": "code",
   "execution_count": null,
   "id": "ced6ab76-2b46-49df-8314-d11ad1df811a",
   "metadata": {},
   "outputs": [
    {
     "data": {
      "text/plain": [
       "BLUE      0.023977\n",
       "ORANGE    0.079601\n",
       "dtype: float64"
      ]
     },
     "execution_count": 23,
     "metadata": {},
     "output_type": "execute_result"
    }
   ],
   "source": [
    "returns.std()"
   ]
  },
  {
   "cell_type": "code",
   "execution_count": 24,
   "id": "469f24b5-d0bd-485a-837f-834b98aa0562",
   "metadata": {},
   "outputs": [
    {
     "data": {
      "text/plain": [
       "BLUE      0.01\n",
       "ORANGE    0.01\n",
       "dtype: float64"
      ]
     },
     "execution_count": 24,
     "metadata": {},
     "output_type": "execute_result"
    }
   ],
   "source": [
    "returns.mean()"
   ]
  },
  {
   "cell_type": "code",
   "execution_count": 29,
   "id": "f871e5c5-b81f-4cdf-aa5b-3f8ed6db233e",
   "metadata": {},
   "outputs": [
    {
     "data": {
      "text/plain": [
       "BLUE      12.33\n",
       "ORANGE     8.72\n",
       "dtype: float64"
      ]
     },
     "execution_count": 29,
     "metadata": {},
     "output_type": "execute_result"
    }
   ],
   "source": [
    "(((returns+1).prod()-1)*100).round(2)"
   ]
  },
  {
   "cell_type": "markdown",
   "id": "b061740d-3877-471e-8951-ead78d49a860",
   "metadata": {},
   "source": [
    "## Risk and Reward\n",
    "\n",
    "What do you understand when we talked about volatility?\n",
    "\n",
    "When a serie of returns is more volatile than the another serie it means that the return serie deviate more often and more significantly from the mean than the other\n",
    "\n",
    "$$\\sigma^{2}=\\frac{\\sum_{i=1}^{N}(R_{i}-\\bar{R})^{2}}{N}$$"
   ]
  },
  {
   "cell_type": "markdown",
   "id": "51681ceb-b1fa-4601-9dc1-544fc9dbd20d",
   "metadata": {},
   "source": [
    "The variance is the average of the square deviated returns, it isn't comparable with the return itself so we calculate de standard deviation takin the square rood of the variance that is more comparable with the returns.\n",
    "\n",
    "$$\\sigma=\\sqrt{\\frac{\\sum_{i=1}^{N}(R_{i}-\\bar{R})^{2}}{N}}$$\n",
    "\n",
    "volatily could be affected by the time frame that you'r using, if you're using dialy data it will have a higher volatility than returns in monthly data, it's because  you have more data points\n",
    "\n",
    "how do we get annualized volatility?\n",
    "\n",
    "in order to compare volatility from different time frame we annalize the volatility.  it's as follow\n",
    "\n",
    "$$\\sigma_{A}=\\sigma_{D}\\times \\sqrt{P}\\$$\n",
    "\n",
    "1. **$\\sigma_{D}$:** This is the daily volatility, usually calculated as the standard deviation of daily returns over some historical period.\n",
    "2. **$\\sigma_{A}$:** This is the annual volatility, which provides an estimate of how much an investment is expected to fluctuate over a year.\n",
    "3. **$\\sqrt{P}$:** The square root of the number of trading days in a year..\n"
   ]
  },
  {
   "cell_type": "markdown",
   "id": "e1407dfb-7afb-4704-9c9e-e2d47c3aa4a0",
   "metadata": {},
   "source": [
    "how do we annalize returns of two different stocks with different volatility, one way is calculation the return on risk ratio or alternately \n",
    "\n",
    "$$Return on Risk Ratio=\\frac{R_{A}}{\\sigma_{A}}$$\n",
    "\n",
    "where $R_{A}$ is the annualized return and $\\sigma_{A}$ is the annualized volatility, the insight is how much return we get for unit of volatility.\n",
    "\n",
    "there's a much more better indicator returns for two different stock with different volatility, it is the share ratio\n",
    "\n",
    "$$sharpe ratio=\\frac{R_{A}-R_{rf}}{\\sigma_{A}}$$\n",
    "\n",
    "we calculate the excess of volatility agains the annualized risk free rate $R_{rf}$ , the risk free rate could be the rate that you get if you invested in us treasurry bill, as in the return on risk ration. \n"
   ]
  },
  {
   "cell_type": "code",
   "execution_count": 10,
   "id": "33ea9f76-7934-482f-955d-b6265dae7525",
   "metadata": {},
   "outputs": [],
   "source": [
    "import pandas as pd\n",
    "prices=pd.read_csv(\"Data/sample_prices.csv\")\n",
    "returns=prices.pct_change()\n",
    "returns=returns.dropna()"
   ]
  },
  {
   "cell_type": "code",
   "execution_count": 11,
   "id": "cb65c192-565f-4b10-9b65-a26091fe743e",
   "metadata": {},
   "outputs": [
    {
     "data": {
      "text/plain": [
       "BLUE      0.023977\n",
       "ORANGE    0.079601\n",
       "dtype: float64"
      ]
     },
     "execution_count": 11,
     "metadata": {},
     "output_type": "execute_result"
    }
   ],
   "source": [
    "returns.std()"
   ]
  },
  {
   "cell_type": "code",
   "execution_count": 39,
   "id": "4532c21d-684a-4446-b91e-5e443886e65a",
   "metadata": {},
   "outputs": [
    {
     "data": {
      "text/plain": [
       "BLUE      0.022957\n",
       "ORANGE    0.076212\n",
       "dtype: float64"
      ]
     },
     "execution_count": 39,
     "metadata": {},
     "output_type": "execute_result"
    }
   ],
   "source": [
    "deviations=returns-returns.mean()\n",
    "squared_deviations=deviations**2\n",
    "variance=squared_deviations.mean()\n",
    "volatility=variance**0.5\n",
    "volatility"
   ]
  },
  {
   "cell_type": "markdown",
   "id": "f7ea41cc-e035-4a69-8b03-d5e7a36890f1",
   "metadata": {},
   "source": [
    "the number is difference because when we compute the standard deviation method in pandas we're using as denominator n-1 nor  n as we're doing with the formular. we already learned that topic in statistics it's related with sample and population."
   ]
  },
  {
   "cell_type": "markdown",
   "id": "4b571ad5-a4d1-4bb3-8295-227876a3408c",
   "metadata": {},
   "source": [
    "shape is an atribute of a dataframe it gives you a tuple with the rows and colums. tuple is an ordered list that you can not change"
   ]
  },
  {
   "cell_type": "code",
   "execution_count": 43,
   "id": "43342262-ef9f-418c-a956-c514a3468878",
   "metadata": {},
   "outputs": [
    {
     "data": {
      "text/plain": [
       "BLUE      0.023977\n",
       "ORANGE    0.079601\n",
       "dtype: float64"
      ]
     },
     "execution_count": 43,
     "metadata": {},
     "output_type": "execute_result"
    }
   ],
   "source": [
    "number_obs=returns.shape[0]\n",
    "variance=squared_deviations.sum()/(number_obs-1)\n",
    "volatility=variance**0.5\n",
    "volatility"
   ]
  },
  {
   "cell_type": "code",
   "execution_count": 44,
   "id": "7432688e-f583-4870-9661-87f2df10bff2",
   "metadata": {},
   "outputs": [
    {
     "data": {
      "text/plain": [
       "BLUE      0.083060\n",
       "ORANGE    0.275747\n",
       "dtype: float64"
      ]
     },
     "execution_count": 44,
     "metadata": {},
     "output_type": "execute_result"
    }
   ],
   "source": [
    "annual_volatility=volatility*np.sqrt(12)\n",
    "annual_volatility"
   ]
  },
  {
   "cell_type": "markdown",
   "id": "08aafa0f-534e-4034-80a7-69933c922c9c",
   "metadata": {},
   "source": [
    "the csv file is a monthly time series dataset of companies retuns organized by market cap segmentation since 1926 to 2018."
   ]
  },
  {
   "cell_type": "code",
   "execution_count": 15,
   "id": "a647bb65-18d7-4505-9fc1-17e9b10e8a58",
   "metadata": {},
   "outputs": [
    {
     "name": "stdout",
     "output_type": "stream",
     "text": [
      "The autoreload extension is already loaded. To reload it, use:\n",
      "  %reload_ext autoreload\n"
     ]
    }
   ],
   "source": [
    "import data as d\n",
    "%load_ext autoreload\n",
    "%autoreload"
   ]
  },
  {
   "cell_type": "code",
   "execution_count": 17,
   "id": "22b693bc-e43f-44c0-bb14-89647e8b59b0",
   "metadata": {},
   "outputs": [],
   "source": [
    "returns=d.data_portafolio()"
   ]
  },
  {
   "cell_type": "code",
   "execution_count": 18,
   "id": "94482559-dee2-4a05-aabb-4f5e911acbe3",
   "metadata": {},
   "outputs": [
    {
     "data": {
      "text/plain": [
       "small cap    0.106288\n",
       "large cap    0.053900\n",
       "dtype: float64"
      ]
     },
     "execution_count": 18,
     "metadata": {},
     "output_type": "execute_result"
    }
   ],
   "source": [
    "returns.std()"
   ]
  },
  {
   "cell_type": "code",
   "execution_count": 19,
   "id": "27815ac8-9d9e-4537-8369-33b6afebcfb3",
   "metadata": {},
   "outputs": [
    {
     "data": {
      "text/plain": [
       "small cap    0.368193\n",
       "large cap    0.186716\n",
       "dtype: float64"
      ]
     },
     "execution_count": 19,
     "metadata": {},
     "output_type": "execute_result"
    }
   ],
   "source": [
    "import numpy as np\n",
    "annualized_vol=returns.std()*np.sqrt(12)\n",
    "annualized_vol"
   ]
  },
  {
   "cell_type": "code",
   "execution_count": 50,
   "id": "d69241e8-7e6a-4086-8395-4b8ee59e703b",
   "metadata": {},
   "outputs": [
    {
     "data": {
      "text/plain": [
       "<AxesSubplot:>"
      ]
     },
     "execution_count": 50,
     "metadata": {},
     "output_type": "execute_result"
    },
    {
     "data": {
      "image/png": "[encoded data removed]",
      "text/plain": [
       "<Figure size 640x480 with 1 Axes>"
      ]
     },
     "metadata": {},
     "output_type": "display_data"
    }
   ],
   "source": [
    "returns.plot.line()"
   ]
  },
  {
   "cell_type": "code",
   "execution_count": 53,
   "id": "f3487e68-5f8e-40dd-ad6a-d54da09ce595",
   "metadata": {},
   "outputs": [
    {
     "data": {
      "text/plain": [
       "smallcap    0.167463\n",
       "largecap    0.092810\n",
       "dtype: float64"
      ]
     },
     "execution_count": 53,
     "metadata": {},
     "output_type": "execute_result"
    }
   ],
   "source": [
    "annualized_return=(np.prod(1+returns))**(12/returns.shape[0])-1\n",
    "annualized_return"
   ]
  },
  {
   "cell_type": "code",
   "execution_count": 55,
   "id": "d60b6ddf-8fbd-4b1b-9fcd-b2743451a657",
   "metadata": {},
   "outputs": [
    {
     "data": {
      "text/plain": [
       "smallcap    0.454825\n",
       "largecap    0.497063\n",
       "dtype: float64"
      ]
     },
     "execution_count": 55,
     "metadata": {},
     "output_type": "execute_result"
    }
   ],
   "source": [
    "annualized_return/annualized_vol"
   ]
  },
  {
   "cell_type": "markdown",
   "id": "975e1634-ac0b-44fd-a0ab-751e362ab776",
   "metadata": {},
   "source": [
    "annualized return per unid of volatility"
   ]
  },
  {
   "cell_type": "code",
   "execution_count": 56,
   "id": "5d3d514d-b9a0-45b1-806b-cafa1e8a9cb1",
   "metadata": {},
   "outputs": [
    {
     "data": {
      "text/plain": [
       "smallcap    0.373346\n",
       "largecap    0.336392\n",
       "dtype: float64"
      ]
     },
     "execution_count": 56,
     "metadata": {},
     "output_type": "execute_result"
    }
   ],
   "source": [
    "risk_free=0.03\n",
    "sharpe_ratio=(annualized_return-risk_free)/annualized_vol\n",
    "sharpe_ratio"
   ]
  },
  {
   "cell_type": "markdown",
   "id": "cf030581-1c48-4231-bd19-4a50f7b84da9",
   "metadata": {},
   "source": [
    "we shouldn't use the risk free rate in that way, we should instead use the time series of the risk free rate."
   ]
  },
  {
   "cell_type": "markdown",
   "id": "ac0ac562-59a3-4928-a6ab-f97fed12bd69",
   "metadata": {},
   "source": [
    "small cap give you a superior risk adjusted return than large cap "
   ]
  },
  {
   "cell_type": "markdown",
   "id": "832f2709-3f73-43c4-893f-08f6bf26c8d2",
   "metadata": {},
   "source": [
    "## Maximum drowdown\n",
    "\n",
    "**What's maximum drowdown?**\n",
    "\n",
    "volatility is not nesessarily a bad thing because if you deviate from the mean in the upside it's good for you. There's another measure called the maximum drowdown it represents the loss that you could have experienced if you'r unlucky enough to buy the asset at its very peak and you sold it at its botton. it's an interesting worst case scenario.\n",
    "\n",
    "**How do i build a wealth index?\n",
    "\n",
    "what would happen if i take a dollar or 100 dollars and invested it over time, just buy and hold.\n",
    "\n",
    "\n",
    "**Give me pros and cons for the maximum drowdown measure?\n"
   ]
  },
  {
   "cell_type": "code",
   "execution_count": 2,
   "id": "e8076c4a-1b16-41b2-b30e-3b26f29ab016",
   "metadata": {},
   "outputs": [
    {
     "name": "stderr",
     "output_type": "stream",
     "text": [
      "C:\\Users\\pipeq\\anaconda3\\lib\\site-packages\\pandas\\core\\arrays\\masked.py:60: UserWarning: Pandas requires version '1.3.6' or newer of 'bottleneck' (version '1.3.5' currently installed).\n",
      "  from pandas.core import (\n"
     ]
    }
   ],
   "source": [
    "import risk as r"
   ]
  },
  {
   "cell_type": "code",
   "execution_count": 3,
   "id": "938ac65e-1daf-40b7-b5d1-18cf731e2e33",
   "metadata": {},
   "outputs": [],
   "source": [
    "rt=r.data_portafolio()"
   ]
  },
  {
   "cell_type": "markdown",
   "id": "252692d4-50a0-4cf8-934d-ee94eec31d13",
   "metadata": {},
   "source": [
    "when i use the pandas funtionallity read csv, i put as an input parse_dates=True. It means python will try to discover which variable among all variables is a date variable. when i take a look to the data, i figure out that the date variable doesn't look like a date variable."
   ]
  },
  {
   "cell_type": "code",
   "execution_count": 4,
   "id": "25d96d51-9d2d-4fad-94df-bb474c246f7e",
   "metadata": {},
   "outputs": [
    {
     "data": {
      "text/plain": [
       "PeriodIndex(['1926-07', '1926-08', '1926-09', '1926-10', '1926-11', '1926-12',\n",
       "             '1927-01', '1927-02', '1927-03', '1927-04',\n",
       "             ...\n",
       "             '2018-03', '2018-04', '2018-05', '2018-06', '2018-07', '2018-08',\n",
       "             '2018-09', '2018-10', '2018-11', '2018-12'],\n",
       "            dtype='period[M]', length=1110)"
      ]
     },
     "execution_count": 4,
     "metadata": {},
     "output_type": "execute_result"
    }
   ],
   "source": [
    "rt.index"
   ]
  },
  {
   "cell_type": "markdown",
   "id": "77168a9d-32f8-47c3-82c6-f03789f70403",
   "metadata": {},
   "source": [
    "i'm just trying tell python that i'm using time series data. This is important because it allows me to get new python funtionallities that i couldn't get if python don't know that i'm using time series."
   ]
  },
  {
   "cell_type": "code",
   "execution_count": 9,
   "id": "1a1c8d41-e35c-44ee-8fcb-37a7a8f52a97",
   "metadata": {},
   "outputs": [
    {
     "data": {
      "text/html": [
       "<div>\n",
       "<style scoped>\n",
       "    .dataframe tbody tr th:only-of-type {\n",
       "        vertical-align: middle;\n",
       "    }\n",
       "\n",
       "    .dataframe tbody tr th {\n",
       "        vertical-align: top;\n",
       "    }\n",
       "\n",
       "    .dataframe thead th {\n",
       "        text-align: right;\n",
       "    }\n",
       "</style>\n",
       "<table border=\"1\" class=\"dataframe\">\n",
       "  <thead>\n",
       "    <tr style=\"text-align: right;\">\n",
       "      <th></th>\n",
       "      <th>small cap</th>\n",
       "      <th>large cap</th>\n",
       "    </tr>\n",
       "  </thead>\n",
       "  <tbody>\n",
       "    <tr>\n",
       "      <th>1940-01</th>\n",
       "      <td>-0.0021</td>\n",
       "      <td>-0.0193</td>\n",
       "    </tr>\n",
       "    <tr>\n",
       "      <th>1940-02</th>\n",
       "      <td>0.0398</td>\n",
       "      <td>0.0092</td>\n",
       "    </tr>\n",
       "    <tr>\n",
       "      <th>1940-03</th>\n",
       "      <td>0.0025</td>\n",
       "      <td>0.0162</td>\n",
       "    </tr>\n",
       "    <tr>\n",
       "      <th>1940-04</th>\n",
       "      <td>-0.0100</td>\n",
       "      <td>0.0038</td>\n",
       "    </tr>\n",
       "    <tr>\n",
       "      <th>1940-05</th>\n",
       "      <td>-0.2914</td>\n",
       "      <td>-0.2126</td>\n",
       "    </tr>\n",
       "    <tr>\n",
       "      <th>1940-06</th>\n",
       "      <td>0.0380</td>\n",
       "      <td>0.0595</td>\n",
       "    </tr>\n",
       "    <tr>\n",
       "      <th>1940-07</th>\n",
       "      <td>0.0425</td>\n",
       "      <td>0.0280</td>\n",
       "    </tr>\n",
       "    <tr>\n",
       "      <th>1940-08</th>\n",
       "      <td>-0.0074</td>\n",
       "      <td>0.0134</td>\n",
       "    </tr>\n",
       "    <tr>\n",
       "      <th>1940-09</th>\n",
       "      <td>0.0338</td>\n",
       "      <td>0.0202</td>\n",
       "    </tr>\n",
       "    <tr>\n",
       "      <th>1940-10</th>\n",
       "      <td>-0.0074</td>\n",
       "      <td>0.0251</td>\n",
       "    </tr>\n",
       "    <tr>\n",
       "      <th>1940-11</th>\n",
       "      <td>-0.0184</td>\n",
       "      <td>-0.0151</td>\n",
       "    </tr>\n",
       "    <tr>\n",
       "      <th>1940-12</th>\n",
       "      <td>-0.1054</td>\n",
       "      <td>0.0165</td>\n",
       "    </tr>\n",
       "  </tbody>\n",
       "</table>\n",
       "</div>"
      ],
      "text/plain": [
       "         small cap  large cap\n",
       "1940-01    -0.0021    -0.0193\n",
       "1940-02     0.0398     0.0092\n",
       "1940-03     0.0025     0.0162\n",
       "1940-04    -0.0100     0.0038\n",
       "1940-05    -0.2914    -0.2126\n",
       "1940-06     0.0380     0.0595\n",
       "1940-07     0.0425     0.0280\n",
       "1940-08    -0.0074     0.0134\n",
       "1940-09     0.0338     0.0202\n",
       "1940-10    -0.0074     0.0251\n",
       "1940-11    -0.0184    -0.0151\n",
       "1940-12    -0.1054     0.0165"
      ]
     },
     "execution_count": 9,
     "metadata": {},
     "output_type": "execute_result"
    }
   ],
   "source": [
    "rt.loc[\"1940\"] # loc is a manipulation function from pandas is a label base indexing"
   ]
  },
  {
   "cell_type": "markdown",
   "id": "e40d3199-bf2f-4c59-9ca9-90e0b5992005",
   "metadata": {},
   "source": [
    "**Max drawdowns**\n",
    "\n",
    "1. wealth index\n",
    "2. compute previus peaks\n",
    "3. compute drowdowns, which is the wealth value as a percentage of the previus peak\n",
    "\n",
    "**what's weath index ?**\n",
    "\n",
    "its the money that i would get, if i invested an hypothetical amount of money and hold it ultil the very end.  it's the value of the portafolio as it compounds over time."
   ]
  },
  {
   "cell_type": "code",
   "execution_count": 45,
   "id": "e669209d-06db-4d65-9f8e-ae386117226a",
   "metadata": {},
   "outputs": [],
   "source": [
    "wealth_index=1000*(1+rt[\"large cap\"]).cumprod()"
   ]
  },
  {
   "cell_type": "code",
   "execution_count": null,
   "id": "accc9608-545a-4138-be35-f0d64dab7fd8",
   "metadata": {},
   "outputs": [],
   "source": [
    "the formula gives me the grown of the capital invested over time"
   ]
  },
  {
   "cell_type": "code",
   "execution_count": 46,
   "id": "569f4677-f254-4226-88e7-8329ddc0c301",
   "metadata": {},
   "outputs": [],
   "source": [
    "previous_peaks=wealth_index.cummax()"
   ]
  },
  {
   "cell_type": "markdown",
   "id": "854514c5-73b7-4dc3-96f0-ad1a6ad37680",
   "metadata": {},
   "source": [
    "cummax is cumulative maximum"
   ]
  },
  {
   "cell_type": "code",
   "execution_count": 47,
   "id": "efdd2fcb-b823-4f6e-936f-7b645a9a26a7",
   "metadata": {},
   "outputs": [],
   "source": [
    "drawdown=(wealth_index-previous_peaks)/previous_peaks"
   ]
  },
  {
   "cell_type": "code",
   "execution_count": 48,
   "id": "7ee504c4-1fdb-4e1c-a4ff-7c5be57072e7",
   "metadata": {},
   "outputs": [
    {
     "data": {
      "text/plain": [
       "-0.8400375277943123"
      ]
     },
     "execution_count": 48,
     "metadata": {},
     "output_type": "execute_result"
    }
   ],
   "source": [
    "drawdown.min()"
   ]
  },
  {
   "cell_type": "markdown",
   "id": "e9bb452e-0e35-46b4-9345-2b805f022420",
   "metadata": {},
   "source": [
    "**¿where the maximum drawdown happens?**"
   ]
  },
  {
   "cell_type": "code",
   "execution_count": 49,
   "id": "0ca00eeb-5446-4272-ade4-c39bbf4aac0c",
   "metadata": {},
   "outputs": [
    {
     "data": {
      "text/plain": [
       "Period('1932-05', 'M')"
      ]
     },
     "execution_count": 49,
     "metadata": {},
     "output_type": "execute_result"
    }
   ],
   "source": [
    "drawdown.idxmin() # find index label of the row and column that contains the minimum value within the DataFrame"
   ]
  },
  {
   "cell_type": "markdown",
   "id": "241e6cf8-bf44-4e14-833b-8afecdec100f",
   "metadata": {},
   "source": [
    "what if i want to know what's the maximum drawdown since `1975`. we use min instead of max because as you can see, almost all drawdowns are negative."
   ]
  },
  {
   "cell_type": "code",
   "execution_count": 50,
   "id": "d5f0721e-d470-4804-b501-1557484cab29",
   "metadata": {},
   "outputs": [
    {
     "data": {
      "text/plain": [
       "-0.5280945042309304"
      ]
     },
     "execution_count": 50,
     "metadata": {},
     "output_type": "execute_result"
    }
   ],
   "source": [
    "drawdown[\"1975\":].min()"
   ]
  },
  {
   "cell_type": "code",
   "execution_count": 51,
   "id": "3b8393db-7d56-4d26-b40b-3a9846d60aea",
   "metadata": {},
   "outputs": [
    {
     "data": {
      "text/plain": [
       "Period('2009-02', 'M')"
      ]
     },
     "execution_count": 51,
     "metadata": {},
     "output_type": "execute_result"
    }
   ],
   "source": [
    "drawdown[\"1975\":].idxmin()"
   ]
  },
  {
   "cell_type": "code",
   "execution_count": 17,
   "id": "17f64151-749d-4dc9-9416-448db9f5a78a",
   "metadata": {},
   "outputs": [],
   "source": [
    "import pandas as pd\n",
    "\n",
    "def drawdown(returns_series: pd.Series):\n",
    "    \"\"\"\n",
    "    Takes a series of assets returns. Computes and returns a data frame that contains:\n",
    "    - wealth index\n",
    "    - previous peaks\n",
    "    - percent drawdowns\n",
    "    \"\"\"\n",
    "    \n",
    "    wealth_index = 1 * (1 + returns_series).cumprod()\n",
    "    previous_peaks = wealth_index.cummax()\n",
    "    drawdowns = (wealth_index - previous_peaks) / previous_peaks\n",
    "    \n",
    "    return pd.DataFrame({\n",
    "        \"Wealth\": wealth_index,\n",
    "        \"Peaks\": previous_peaks,\n",
    "        \"Drawdowns\": drawdowns\n",
    "    })\n"
   ]
  },
  {
   "cell_type": "markdown",
   "id": "c19462ab-8ccf-4b48-a5ba-7a68081b7d5e",
   "metadata": {},
   "source": [
    "When i put this as an input`returns_series: pd.Series`, i'm telling pyton that i'm working with a return serie as an input, but not any return series, it's is a serie of the kind pd.series.\n",
    "\n",
    "When we compute all the things that we want it to send back, i'm going to send it back with the return statement, anything that i gave here is going to send back to the caller of the funtion.\n",
    "what did i say i'm going send back, i'm going to send back a pandas data frame. i'm going to create a little dictionary with an . `entry per column`."
   ]
  },
  {
   "cell_type": "code",
   "execution_count": 81,
   "id": "33fd4fba-986d-4aee-beac-eba0c122f13f",
   "metadata": {},
   "outputs": [
    {
     "data": {
      "text/html": [
       "<div>\n",
       "<style scoped>\n",
       "    .dataframe tbody tr th:only-of-type {\n",
       "        vertical-align: middle;\n",
       "    }\n",
       "\n",
       "    .dataframe tbody tr th {\n",
       "        vertical-align: top;\n",
       "    }\n",
       "\n",
       "    .dataframe thead th {\n",
       "        text-align: right;\n",
       "    }\n",
       "</style>\n",
       "<table border=\"1\" class=\"dataframe\">\n",
       "  <thead>\n",
       "    <tr style=\"text-align: right;\">\n",
       "      <th></th>\n",
       "      <th>Wealth</th>\n",
       "      <th>Peaks</th>\n",
       "      <th>Drawdowns</th>\n",
       "    </tr>\n",
       "  </thead>\n",
       "  <tbody>\n",
       "    <tr>\n",
       "      <th>1926-07</th>\n",
       "      <td>1.032900e+03</td>\n",
       "      <td>1.032900e+03</td>\n",
       "      <td>0.000000</td>\n",
       "    </tr>\n",
       "    <tr>\n",
       "      <th>1926-08</th>\n",
       "      <td>1.071117e+03</td>\n",
       "      <td>1.071117e+03</td>\n",
       "      <td>0.000000</td>\n",
       "    </tr>\n",
       "    <tr>\n",
       "      <th>1926-09</th>\n",
       "      <td>1.078294e+03</td>\n",
       "      <td>1.078294e+03</td>\n",
       "      <td>0.000000</td>\n",
       "    </tr>\n",
       "    <tr>\n",
       "      <th>1926-10</th>\n",
       "      <td>1.052091e+03</td>\n",
       "      <td>1.078294e+03</td>\n",
       "      <td>-0.024300</td>\n",
       "    </tr>\n",
       "    <tr>\n",
       "      <th>1926-11</th>\n",
       "      <td>1.080498e+03</td>\n",
       "      <td>1.080498e+03</td>\n",
       "      <td>0.000000</td>\n",
       "    </tr>\n",
       "    <tr>\n",
       "      <th>...</th>\n",
       "      <td>...</td>\n",
       "      <td>...</td>\n",
       "      <td>...</td>\n",
       "    </tr>\n",
       "    <tr>\n",
       "      <th>2018-08</th>\n",
       "      <td>4.175915e+06</td>\n",
       "      <td>4.175915e+06</td>\n",
       "      <td>0.000000</td>\n",
       "    </tr>\n",
       "    <tr>\n",
       "      <th>2018-09</th>\n",
       "      <td>4.212246e+06</td>\n",
       "      <td>4.212246e+06</td>\n",
       "      <td>0.000000</td>\n",
       "    </tr>\n",
       "    <tr>\n",
       "      <th>2018-10</th>\n",
       "      <td>3.935501e+06</td>\n",
       "      <td>4.212246e+06</td>\n",
       "      <td>-0.065700</td>\n",
       "    </tr>\n",
       "    <tr>\n",
       "      <th>2018-11</th>\n",
       "      <td>4.035069e+06</td>\n",
       "      <td>4.212246e+06</td>\n",
       "      <td>-0.042062</td>\n",
       "    </tr>\n",
       "    <tr>\n",
       "      <th>2018-12</th>\n",
       "      <td>3.675948e+06</td>\n",
       "      <td>4.212246e+06</td>\n",
       "      <td>-0.127319</td>\n",
       "    </tr>\n",
       "  </tbody>\n",
       "</table>\n",
       "<p>1110 rows × 3 columns</p>\n",
       "</div>"
      ],
      "text/plain": [
       "               Wealth         Peaks  Drawdowns\n",
       "1926-07  1.032900e+03  1.032900e+03   0.000000\n",
       "1926-08  1.071117e+03  1.071117e+03   0.000000\n",
       "1926-09  1.078294e+03  1.078294e+03   0.000000\n",
       "1926-10  1.052091e+03  1.078294e+03  -0.024300\n",
       "1926-11  1.080498e+03  1.080498e+03   0.000000\n",
       "...               ...           ...        ...\n",
       "2018-08  4.175915e+06  4.175915e+06   0.000000\n",
       "2018-09  4.212246e+06  4.212246e+06   0.000000\n",
       "2018-10  3.935501e+06  4.212246e+06  -0.065700\n",
       "2018-11  4.035069e+06  4.212246e+06  -0.042062\n",
       "2018-12  3.675948e+06  4.212246e+06  -0.127319\n",
       "\n",
       "[1110 rows x 3 columns]"
      ]
     },
     "execution_count": 81,
     "metadata": {},
     "output_type": "execute_result"
    }
   ],
   "source": [
    "drawdown(rt[\"large cap\"])"
   ]
  },
  {
   "cell_type": "markdown",
   "id": "484db8c6-1667-415a-be3f-5d4121c612ad",
   "metadata": {},
   "source": [
    "double brackets means, the firts one is for indexation and the other one is because i'm giving a list."
   ]
  },
  {
   "cell_type": "code",
   "execution_count": 87,
   "id": "fc8d445f-02d0-4db4-8b2e-ea7b54f15356",
   "metadata": {},
   "outputs": [
    {
     "data": {
      "text/plain": [
       "<AxesSubplot:>"
      ]
     },
     "execution_count": 87,
     "metadata": {},
     "output_type": "execute_result"
    },
    {
     "data": {
      "image/png": "[encoded data removed]",
      "text/plain": [
       "<Figure size 640x480 with 1 Axes>"
      ]
     },
     "metadata": {},
     "output_type": "display_data"
    }
   ],
   "source": [
    "drawdown(rt[\"small cap\"])[[\"Wealth\",\"Peaks\"]].plot.line()"
   ]
  },
  {
   "cell_type": "code",
   "execution_count": 91,
   "id": "682d6de0-3740-4852-a7d9-2567f3634b62",
   "metadata": {},
   "outputs": [
    {
     "data": {
      "text/plain": [
       "<AxesSubplot:>"
      ]
     },
     "execution_count": 91,
     "metadata": {},
     "output_type": "execute_result"
    },
    {
     "data": {
      "image/png": "[encoded data removed]",
      "text/plain": [
       "<Figure size 640x480 with 1 Axes>"
      ]
     },
     "metadata": {},
     "output_type": "display_data"
    }
   ],
   "source": [
    "drawdown(rt[\"2000\":][\"large cap\"])[[\"Wealth\",\"Peaks\"]].plot.line()"
   ]
  },
  {
   "cell_type": "code",
   "execution_count": 93,
   "id": "8ff94972-e63b-4a01-ade7-9887b03c7199",
   "metadata": {},
   "outputs": [
    {
     "data": {
      "text/plain": [
       "<AxesSubplot:>"
      ]
     },
     "execution_count": 93,
     "metadata": {},
     "output_type": "execute_result"
    },
    {
     "data": {
      "image/png": "[encoded data removed]",
      "text/plain": [
       "<Figure size 640x480 with 1 Axes>"
      ]
     },
     "metadata": {},
     "output_type": "display_data"
    }
   ],
   "source": [
    "drawdown(rt[\"2000\":][\"large cap\"])[[\"Drawdowns\"]].plot.line()"
   ]
  },
  {
   "cell_type": "code",
   "execution_count": 18,
   "id": "80fab332-3a46-4b15-86b0-5057b84b3e38",
   "metadata": {},
   "outputs": [
    {
     "data": {
      "text/plain": [
       "Drawdowns   -0.528095\n",
       "dtype: float64"
      ]
     },
     "execution_count": 18,
     "metadata": {},
     "output_type": "execute_result"
    }
   ],
   "source": [
    "drawdown(rt[\"2000\":][\"large cap\"])[[\"Drawdowns\"]].min()"
   ]
  },
  {
   "cell_type": "code",
   "execution_count": 19,
   "id": "dea1b8a9-2db1-45db-b082-70d5d3c08914",
   "metadata": {},
   "outputs": [
    {
     "data": {
      "text/plain": [
       "Drawdowns    2009-02\n",
       "dtype: period[M]"
      ]
     },
     "execution_count": 19,
     "metadata": {},
     "output_type": "execute_result"
    }
   ],
   "source": [
    "drawdown(rt[\"2000\":][\"large cap\"])[[\"Drawdowns\"]].idxmin()"
   ]
  },
  {
   "cell_type": "markdown",
   "id": "c2b7c586-ecc0-4c7c-84f4-49ca674088eb",
   "metadata": {},
   "source": [
    "## Beyond Gaussian Extreme Risk Estimates\n",
    "When working in statistics, we often use the normal distribution. However, this assumption is not always applicable in the context of finance, because the normal distribution underestimates the likelihood of extreme events (tail events), which are an empirical regularity in financial time series. The normal distribution has the advantage of being characterized entirely by its first two moments: mean and variance. In contrast, when using a non-normal distribution to analyze time series, we need to consider higher moments, such as skewness and kurtosis.\n",
    "\"Skewness is a measure of asymmetry in a distribution. In a symmetric distribution, like the normal distribution, the probabilities of obtaining values below and above the mean are equal. Skewed distributions can be either positively or negatively skewed. In the context of financial returns, a positively skewed distribution suggests a higher likelihood of achieving returns above the average, but it also implies the possibility of negative returns. \n",
    "\n",
    "why normal distribution assuptiom doesn't alwais fit with financial series behavior?\n",
    "\n",
    "$$\n",
    "\\begin{align*}\n",
    "\\text{Skewness of } R &= E\\left[ \\left( \\frac{R - E(R)}{\\sqrt{\\text{Var}(R)}} \\right)^3 \\right] \\\\\n",
    "\\text{Where:} \\\\\n",
    "E(R) & \\text{ is the expected return.} \\\\\n",
    "\\text{Var}(R) & \\text{ is the variance of the return.} \\\\\n",
    "E[\\cdot] & \\text{ denotes the expected value.}\n",
    "\\end{align*}\n",
    "$$\n",
    "\n",
    "Kurtosis is a measure of the thickness of the tails in a distribution. It is the fourth moment of a distribution. The kurtosis in a normal distribution is 3. Therefore, if we have a kurtosis higher than 3, it means that the distribution is a fat-tailed distribution.\".\n",
    "$$\n",
    "\\text{Kurtosis of } R = E\\left[ \\left( \\frac{R - E(R)}{\\sqrt{\\text{Var}(R)}} \\right)^4 \\right]\n",
    "$$\n",
    "\n",
    "Jaque vera test for normality of returns\n",
    "$$\n",
    "\\text{Jarque-Bera Test: } JB = \\frac{n}{6} \\left( S^2 + \\frac{1}{4} (K - 3)^2 \\right)\n",
    "$$\n",
    "$\n",
    "\\text{where:} \\\\\n",
    "n = \\text{number of observations} \\\\\n",
    "S = \\text{sample skewness} \\\\\n",
    "K = \\text{sample kurtosis}\n",
    "$\n",
    "The null hypothesis for normally distributed returns states that the skewness is zero and the excess kurtosis is zero. The test uses a chi-squared distribution"
   ]
  },
  {
   "cell_type": "markdown",
   "id": "243ee72c-4ca5-4361-87d9-81862de51375",
   "metadata": {},
   "source": [
    "**Semi deviation**\n",
    "\n",
    "What bothers investors is when returns deviate from the mean on the downside. Semi-deviation measures the volatility of the subsample of returns that fall below the mean"
   ]
  },
  {
   "cell_type": "markdown",
   "id": "3fc94077-b0f6-4219-8c39-a1b5bca261e3",
   "metadata": {},
   "source": [
    "$$\n",
    "\\text{Semi-Deviation} = \\sqrt{\\frac{\\sum_{r_i < \\mu} (r_i - \\mu)^2}{N}}$$\n",
    "$\n",
    "\\text{Where:} \\\\\n",
    "r_i = \\text{each individual return in the dataset} \\\\\n",
    "\\mu = \\text{mean of all returns in the dataset} \\\\\n",
    "N = \\text{number of returns below the mean}\n",
    "$"
   ]
  },
  {
   "attachments": {
    "4e9fb716-38d4-4be6-acf6-ccaa40be192d.png": {
     "image/png": "[encoded data removed]"
    }
   },
   "cell_type": "markdown",
   "id": "2423d72f-d511-40f0-bca7-9c94d19291c1",
   "metadata": {},
   "source": [
    "## VaR\n",
    "maxiximum loss that can occur to a given portafolio given a level of confidence and a period; normaly we use 99% level of confidence. They say something like a maximum loss that can occur and it will wipe out the entirely portafolio.we calcule the return distribution, later we drop out the 1% worst cases then we calcule the worst case.\n",
    "\n",
    "![image.png](attachment:4e9fb716-38d4-4be6-acf6-ccaa40be192d.png)\n",
    "*Source: Risk Course, EAFIT*\n",
    "## CVaR\n",
    "The expected loss beyond VaR (Value at Risk) is the average of distribution beyond the Value at Risk threshold. The negative sign in the formula is used because we compute Value at Risk as a positive number.\n",
    "$$\n",
    "CVaR = -\\mathbb{E}[R | R \\leq -VaR] = \\frac{-\\int_{-\\infty}^{-VaR} x \\cdot f_R(x) dx}{F_R(-VaR)}\n",
    "$$\n",
    "\n",
    "$f_r(X)$ is PDF, and F_r(x) is CDF"
   ]
  },
  {
   "cell_type": "markdown",
   "id": "01a45829-b6a7-4f5d-aa34-83334627c9b1",
   "metadata": {
    "tags": []
   },
   "source": [
    "ways of calculate the VaR?\n",
    "\n",
    "We select the method that is most suitable for each case:\n",
    "\n",
    "- **Historical Method:** In this approach, we use historical returns. Given a level of confidence, for example, 99%, we exclude the worst 1% of returns. It's the worst return within this 99%, representing the worst possible outcome. We don't make any assumptions about the return distribution, so we don't worry about mis-specifying the distribution. However, it's sensitive to the sample period, leading to sample risk.\n",
    "\n",
    "past is equal to future\n",
    "\n",
    "- **Parametric Gaussian:** This method addresses the sample risk by making an assumption about the sample distribution. It's 'parametric' because we estimate parameters. We can characterize the entire distribution with its mean and variance. To calculate VaR, we look up the alpha quantile for the standard normal distribution, which provides the estimates needed\n",
    "\n",
    "we shouldn't treat what we observe literally, this is a sample of a larger population and it could played out in many different ways. for that reason we assume a serie of returns that follows  gaussian distribution.\n",
    "\n",
    "\n",
    "Consider $Z_{\\alpha}$ the $\\alpha$-quantile of the standard normal distribution\n",
    "\n",
    "For example $Z_{\\alpha} = -1.65$ at 5% (actually 4.95%)\n",
    "\n",
    "$$\n",
    "\\int_{-\\infty}^{z_{\\alpha}} \\frac{1}{\\sigma\\sqrt{2\\pi}} \\exp\\left(-\\frac{x^2}{2\\sigma^2}\\right) dx = \\alpha\n",
    "$$\n",
    "\n",
    "\n",
    "$$\n",
    "\\Pr\\left(\\frac{R_p - \\mu_p}{\\sigma_p} \\leq z_{\\alpha}\\right) = \\alpha \\iff \\Pr(R_p \\leq \\mu_p + z_{\\alpha}\\sigma_p) = \\alpha\n",
    "$$\n",
    "\n",
    "\n",
    "it's is a proof of only one tail\n",
    "\n",
    "this is just a cdf with all the properties. $Z_{\\alpha}$ is the outcome  where there's only  a  $\\alpha$ percent change of getting a value below  $Z_{\\alpha}$ ; it's just the area under the curve of the standard normal distribution. We work with normalized returns distribution\n",
    "\n",
    "- **Non Gaussian**\n",
    "$\n",
    "\\textbf{DEFINE} \\quad \\hat{F}(x) = P(X > x) = 1 - F(x)\n",
    "$\n",
    "\n",
    "$$\n",
    "\\textbf{PARETO} \\quad \\hat{F}_\\alpha(x) = x^{-\\alpha}\n",
    "$$\n",
    "\n",
    "$$\n",
    "\\textbf{STUDENT WITH} \\quad \\alpha > 0 \\quad \\textbf{DEGREES OF FREEDOM} \\quad \\hat{F}_\\alpha(x) \\sim \\alpha^{(\\alpha-1)/2} x^{-\\alpha}\n",
    "$$\n",
    "\n",
    "$$\n",
    "\\textbf{LOGGAMMA} \\quad \\hat{F}_{\\alpha,\\beta}(x) \\sim x^{-\\alpha} (\\log x)^{\\beta-1}\n",
    "$$\n",
    "\n",
    "$$\n",
    "\\textbf{FRECHET} \\quad \\hat{F}_\\alpha(x) = 1 - e^{-x^{-\\alpha}}\n",
    "$$\n",
    "\n",
    "\n",
    "specification risk, it's the risk of specifyin wrong the model\n",
    "\n",
    "- **Cornish fisher**\n",
    "\n",
    "this is the most commont way of doing VaR\n",
    "$$\n",
    "\\textbf{CORNISH-FISHER (1937) EXPANSION}\n",
    "$$\n",
    "\n",
    "$$\n",
    "\\tilde{z}_{\\alpha} = z_{\\alpha} + \\frac{1}{6}(z_{\\alpha}^2 - 1)S + \\frac{1}{24}(z_{\\alpha}^3 - 3z_{\\alpha})(K - 3) - \\frac{1}{36}(2z_{\\alpha}^3 - 5z_{\\alpha})S^2\n",
    "$$\n",
    "\n",
    "$$\n",
    "\\text{VaR}_{\\text{mod}}(1 - \\alpha) = -(\\mu + \\tilde{z}_{\\alpha} \\sigma)\n",
    "$$\n",
    "\n",
    "\n",
    "We don't use any specific distribution; instead, we use the Cornish-Fisher expansion to relate $\\tilde{z}_{\\alpha}$ of a non-Gaussian distribution with $z_{\\alpha}$ of a Gaussian distribution. It's a function we're expressing, but we're incorporating skewness and kurtosis. This Value at Risk (VaR) is typically higher than the VaR of a Gaussian distribution. It represents a compromise between sample risk and model risk.\n"
   ]
  },
  {
   "cell_type": "code",
   "execution_count": 181,
   "id": "5f86be4b-57d6-437a-91ee-1ca045d79e81",
   "metadata": {},
   "outputs": [
    {
     "name": "stdout",
     "output_type": "stream",
     "text": [
      "The autoreload extension is already loaded. To reload it, use:\n",
      "  %reload_ext autoreload\n"
     ]
    }
   ],
   "source": [
    "#Lab\n",
    "%load_ext autoreload\n",
    "%autoreload"
   ]
  },
  {
   "cell_type": "code",
   "execution_count": 182,
   "id": "defb5f53-007c-4ae8-8b1b-986bf47c65bb",
   "metadata": {},
   "outputs": [],
   "source": [
    "import pandas as pd\n",
    "import risk as r\n",
    "import data as d\n",
    "import scipy.stats"
   ]
  },
  {
   "cell_type": "code",
   "execution_count": 183,
   "id": "39169ef5-2c32-4b44-9a43-f67bc14ffe80",
   "metadata": {},
   "outputs": [],
   "source": [
    "## Deviations form normality\n",
    "\n",
    "## Data from edhec about  returns of head funds. he says head funds strategies\n",
    "hfi=d.data_risk()"
   ]
  },
  {
   "cell_type": "code",
   "execution_count": 184,
   "id": "aee854f2-6faa-4b4f-b2ee-5b9cc9f688d2",
   "metadata": {},
   "outputs": [
    {
     "data": {
      "text/html": [
       "<div>\n",
       "<style scoped>\n",
       "    .dataframe tbody tr th:only-of-type {\n",
       "        vertical-align: middle;\n",
       "    }\n",
       "\n",
       "    .dataframe tbody tr th {\n",
       "        vertical-align: top;\n",
       "    }\n",
       "\n",
       "    .dataframe thead th {\n",
       "        text-align: right;\n",
       "    }\n",
       "</style>\n",
       "<table border=\"1\" class=\"dataframe\">\n",
       "  <thead>\n",
       "    <tr style=\"text-align: right;\">\n",
       "      <th></th>\n",
       "      <th>Convertible Arbitrage</th>\n",
       "      <th>CTA Global</th>\n",
       "      <th>Distressed Securities</th>\n",
       "      <th>Emerging Markets</th>\n",
       "      <th>Equity Market Neutral</th>\n",
       "      <th>Event Driven</th>\n",
       "      <th>Fixed Income Arbitrage</th>\n",
       "      <th>Global Macro</th>\n",
       "      <th>Long/Short Equity</th>\n",
       "      <th>Merger Arbitrage</th>\n",
       "      <th>Relative Value</th>\n",
       "      <th>Short Selling</th>\n",
       "      <th>Funds Of Funds</th>\n",
       "    </tr>\n",
       "    <tr>\n",
       "      <th>date</th>\n",
       "      <th></th>\n",
       "      <th></th>\n",
       "      <th></th>\n",
       "      <th></th>\n",
       "      <th></th>\n",
       "      <th></th>\n",
       "      <th></th>\n",
       "      <th></th>\n",
       "      <th></th>\n",
       "      <th></th>\n",
       "      <th></th>\n",
       "      <th></th>\n",
       "      <th></th>\n",
       "    </tr>\n",
       "  </thead>\n",
       "  <tbody>\n",
       "    <tr>\n",
       "      <th>2018-07</th>\n",
       "      <td>0.0021</td>\n",
       "      <td>-0.0058</td>\n",
       "      <td>0.0093</td>\n",
       "      <td>0.0040</td>\n",
       "      <td>-0.0010</td>\n",
       "      <td>0.0055</td>\n",
       "      <td>0.0022</td>\n",
       "      <td>-0.0014</td>\n",
       "      <td>0.0067</td>\n",
       "      <td>-0.0021</td>\n",
       "      <td>0.0045</td>\n",
       "      <td>-0.0052</td>\n",
       "      <td>0.0018</td>\n",
       "    </tr>\n",
       "    <tr>\n",
       "      <th>2018-08</th>\n",
       "      <td>0.0024</td>\n",
       "      <td>0.0166</td>\n",
       "      <td>0.0002</td>\n",
       "      <td>-0.0277</td>\n",
       "      <td>0.0004</td>\n",
       "      <td>0.0011</td>\n",
       "      <td>0.0017</td>\n",
       "      <td>-0.0007</td>\n",
       "      <td>0.0035</td>\n",
       "      <td>0.0050</td>\n",
       "      <td>-0.0002</td>\n",
       "      <td>-0.0214</td>\n",
       "      <td>0.0015</td>\n",
       "    </tr>\n",
       "    <tr>\n",
       "      <th>2018-09</th>\n",
       "      <td>0.0034</td>\n",
       "      <td>-0.0054</td>\n",
       "      <td>0.0050</td>\n",
       "      <td>-0.0110</td>\n",
       "      <td>-0.0016</td>\n",
       "      <td>0.0032</td>\n",
       "      <td>0.0036</td>\n",
       "      <td>0.0006</td>\n",
       "      <td>-0.0023</td>\n",
       "      <td>0.0028</td>\n",
       "      <td>0.0018</td>\n",
       "      <td>0.0036</td>\n",
       "      <td>-0.0022</td>\n",
       "    </tr>\n",
       "    <tr>\n",
       "      <th>2018-10</th>\n",
       "      <td>-0.0073</td>\n",
       "      <td>-0.0314</td>\n",
       "      <td>-0.0158</td>\n",
       "      <td>-0.0315</td>\n",
       "      <td>-0.0129</td>\n",
       "      <td>-0.0257</td>\n",
       "      <td>-0.0023</td>\n",
       "      <td>-0.0096</td>\n",
       "      <td>-0.0402</td>\n",
       "      <td>-0.0080</td>\n",
       "      <td>-0.0109</td>\n",
       "      <td>0.0237</td>\n",
       "      <td>-0.0269</td>\n",
       "    </tr>\n",
       "    <tr>\n",
       "      <th>2018-11</th>\n",
       "      <td>-0.0068</td>\n",
       "      <td>-0.0053</td>\n",
       "      <td>-0.0193</td>\n",
       "      <td>0.0120</td>\n",
       "      <td>-0.0211</td>\n",
       "      <td>-0.0034</td>\n",
       "      <td>-0.0067</td>\n",
       "      <td>-0.0087</td>\n",
       "      <td>-0.0044</td>\n",
       "      <td>0.0119</td>\n",
       "      <td>-0.0063</td>\n",
       "      <td>-0.0021</td>\n",
       "      <td>-0.0071</td>\n",
       "    </tr>\n",
       "  </tbody>\n",
       "</table>\n",
       "</div>"
      ],
      "text/plain": [
       "         Convertible Arbitrage  CTA Global  Distressed Securities  \\\n",
       "date                                                                \n",
       "2018-07                 0.0021     -0.0058                 0.0093   \n",
       "2018-08                 0.0024      0.0166                 0.0002   \n",
       "2018-09                 0.0034     -0.0054                 0.0050   \n",
       "2018-10                -0.0073     -0.0314                -0.0158   \n",
       "2018-11                -0.0068     -0.0053                -0.0193   \n",
       "\n",
       "         Emerging Markets  Equity Market Neutral  Event Driven  \\\n",
       "date                                                             \n",
       "2018-07            0.0040                -0.0010        0.0055   \n",
       "2018-08           -0.0277                 0.0004        0.0011   \n",
       "2018-09           -0.0110                -0.0016        0.0032   \n",
       "2018-10           -0.0315                -0.0129       -0.0257   \n",
       "2018-11            0.0120                -0.0211       -0.0034   \n",
       "\n",
       "         Fixed Income Arbitrage  Global Macro  Long/Short Equity  \\\n",
       "date                                                               \n",
       "2018-07                  0.0022       -0.0014             0.0067   \n",
       "2018-08                  0.0017       -0.0007             0.0035   \n",
       "2018-09                  0.0036        0.0006            -0.0023   \n",
       "2018-10                 -0.0023       -0.0096            -0.0402   \n",
       "2018-11                 -0.0067       -0.0087            -0.0044   \n",
       "\n",
       "         Merger Arbitrage  Relative Value  Short Selling  Funds Of Funds  \n",
       "date                                                                      \n",
       "2018-07           -0.0021          0.0045        -0.0052          0.0018  \n",
       "2018-08            0.0050         -0.0002        -0.0214          0.0015  \n",
       "2018-09            0.0028          0.0018         0.0036         -0.0022  \n",
       "2018-10           -0.0080         -0.0109         0.0237         -0.0269  \n",
       "2018-11            0.0119         -0.0063        -0.0021         -0.0071  "
      ]
     },
     "execution_count": 185,
     "metadata": {},
     "output_type": "execute_result"
    }
   ],
   "source": [
    "hfi.()"
   ]
  },
  {
   "cell_type": "code",
   "execution_count": 125,
   "id": "50843b9b-9a10-47fc-9c45-d458b830aec6",
   "metadata": {},
   "outputs": [
    {
     "data": {
      "text/html": [
       "<div>\n",
       "<style scoped>\n",
       "    .dataframe tbody tr th:only-of-type {\n",
       "        vertical-align: middle;\n",
       "    }\n",
       "\n",
       "    .dataframe tbody tr th {\n",
       "        vertical-align: top;\n",
       "    }\n",
       "\n",
       "    .dataframe thead th {\n",
       "        text-align: right;\n",
       "    }\n",
       "</style>\n",
       "<table border=\"1\" class=\"dataframe\">\n",
       "  <thead>\n",
       "    <tr style=\"text-align: right;\">\n",
       "      <th></th>\n",
       "      <th>Mean</th>\n",
       "      <th>Median</th>\n",
       "      <th>Mean &gt; Median</th>\n",
       "    </tr>\n",
       "  </thead>\n",
       "  <tbody>\n",
       "    <tr>\n",
       "      <th>Convertible Arbitrage</th>\n",
       "      <td>0.005508</td>\n",
       "      <td>0.0065</td>\n",
       "      <td>False</td>\n",
       "    </tr>\n",
       "    <tr>\n",
       "      <th>CTA Global</th>\n",
       "      <td>0.004074</td>\n",
       "      <td>0.0014</td>\n",
       "      <td>True</td>\n",
       "    </tr>\n",
       "    <tr>\n",
       "      <th>Distressed Securities</th>\n",
       "      <td>0.006946</td>\n",
       "      <td>0.0089</td>\n",
       "      <td>False</td>\n",
       "    </tr>\n",
       "    <tr>\n",
       "      <th>Emerging Markets</th>\n",
       "      <td>0.006253</td>\n",
       "      <td>0.0096</td>\n",
       "      <td>False</td>\n",
       "    </tr>\n",
       "    <tr>\n",
       "      <th>Equity Market Neutral</th>\n",
       "      <td>0.004498</td>\n",
       "      <td>0.0051</td>\n",
       "      <td>False</td>\n",
       "    </tr>\n",
       "    <tr>\n",
       "      <th>Event Driven</th>\n",
       "      <td>0.006344</td>\n",
       "      <td>0.0084</td>\n",
       "      <td>False</td>\n",
       "    </tr>\n",
       "    <tr>\n",
       "      <th>Fixed Income Arbitrage</th>\n",
       "      <td>0.004365</td>\n",
       "      <td>0.0055</td>\n",
       "      <td>False</td>\n",
       "    </tr>\n",
       "    <tr>\n",
       "      <th>Global Macro</th>\n",
       "      <td>0.005403</td>\n",
       "      <td>0.0038</td>\n",
       "      <td>True</td>\n",
       "    </tr>\n",
       "    <tr>\n",
       "      <th>Long/Short Equity</th>\n",
       "      <td>0.006331</td>\n",
       "      <td>0.0079</td>\n",
       "      <td>False</td>\n",
       "    </tr>\n",
       "    <tr>\n",
       "      <th>Merger Arbitrage</th>\n",
       "      <td>0.005356</td>\n",
       "      <td>0.0060</td>\n",
       "      <td>False</td>\n",
       "    </tr>\n",
       "    <tr>\n",
       "      <th>Relative Value</th>\n",
       "      <td>0.005792</td>\n",
       "      <td>0.0067</td>\n",
       "      <td>False</td>\n",
       "    </tr>\n",
       "    <tr>\n",
       "      <th>Short Selling</th>\n",
       "      <td>-0.001701</td>\n",
       "      <td>-0.0053</td>\n",
       "      <td>True</td>\n",
       "    </tr>\n",
       "    <tr>\n",
       "      <th>Funds Of Funds</th>\n",
       "      <td>0.004262</td>\n",
       "      <td>0.0052</td>\n",
       "      <td>False</td>\n",
       "    </tr>\n",
       "  </tbody>\n",
       "</table>\n",
       "</div>"
      ],
      "text/plain": [
       "                            Mean  Median  Mean > Median\n",
       "Convertible Arbitrage   0.005508  0.0065          False\n",
       "CTA Global              0.004074  0.0014           True\n",
       "Distressed Securities   0.006946  0.0089          False\n",
       "Emerging Markets        0.006253  0.0096          False\n",
       "Equity Market Neutral   0.004498  0.0051          False\n",
       "Event Driven            0.006344  0.0084          False\n",
       "Fixed Income Arbitrage  0.004365  0.0055          False\n",
       "Global Macro            0.005403  0.0038           True\n",
       "Long/Short Equity       0.006331  0.0079          False\n",
       "Merger Arbitrage        0.005356  0.0060          False\n",
       "Relative Value          0.005792  0.0067          False\n",
       "Short Selling          -0.001701 -0.0053           True\n",
       "Funds Of Funds          0.004262  0.0052          False"
      ]
     },
     "execution_count": 125,
     "metadata": {},
     "output_type": "execute_result"
    }
   ],
   "source": [
    "result=pd.concat([hfi.mean(),hfi.median(), hfi.mean()>hfi.median()],axis=1)\n",
    "result.columns = ['Mean', 'Median', 'Mean > Median']\n",
    "result"
   ]
  },
  {
   "cell_type": "code",
   "execution_count": 126,
   "id": "9bdd6890-7ff2-4385-8c97-6e018064f4f9",
   "metadata": {},
   "outputs": [
    {
     "data": {
      "text/plain": [
       "Fixed Income Arbitrage   -3.940320\n",
       "Convertible Arbitrage    -2.639592\n",
       "Equity Market Neutral    -2.124435\n",
       "Relative Value           -1.815470\n",
       "Event Driven             -1.409154\n",
       "Merger Arbitrage         -1.320083\n",
       "Distressed Securities    -1.300842\n",
       "Emerging Markets         -1.167067\n",
       "Long/Short Equity        -0.390227\n",
       "Funds Of Funds           -0.361783\n",
       "CTA Global                0.173699\n",
       "Short Selling             0.767975\n",
       "Global Macro              0.982922\n",
       "dtype: float64"
      ]
     },
     "execution_count": 126,
     "metadata": {},
     "output_type": "execute_result"
    }
   ],
   "source": [
    "r.skewness(hfi).sort_values()"
   ]
  },
  {
   "cell_type": "code",
   "execution_count": 192,
   "id": "cef03ede-147a-4814-9e9f-d88645e2a369",
   "metadata": {},
   "outputs": [
    {
     "data": {
      "text/plain": [
       "Equity Market Neutral    -0.896327\n",
       "Funds Of Funds           -0.646908\n",
       "Merger Arbitrage         -0.551065\n",
       "Event Driven             -0.488821\n",
       "Long/Short Equity        -0.463703\n",
       "Distressed Securities    -0.254944\n",
       "Emerging Markets          0.033123\n",
       "CTA Global                0.052062\n",
       "Relative Value            0.159953\n",
       "Global Macro              0.348184\n",
       "Short Selling             0.456518\n",
       "Fixed Income Arbitrage    1.121453\n",
       "Convertible Arbitrage     1.305911\n",
       "dtype: float64"
      ]
     },
     "execution_count": 192,
     "metadata": {},
     "output_type": "execute_result"
    }
   ],
   "source": [
    "r.skewness(hfi[\"2009\":]).sort_values()"
   ]
  },
  {
   "cell_type": "code",
   "execution_count": 127,
   "id": "faacae47-adbe-45b1-bc83-475742c93e4d",
   "metadata": {},
   "outputs": [
    {
     "data": {
      "text/plain": [
       "Convertible Arbitrage     23.280834\n",
       "CTA Global                 2.952960\n",
       "Distressed Securities      7.889983\n",
       "Emerging Markets           9.250788\n",
       "Equity Market Neutral     17.218555\n",
       "Event Driven               8.035828\n",
       "Fixed Income Arbitrage    29.842199\n",
       "Global Macro               5.741679\n",
       "Long/Short Equity          4.523893\n",
       "Merger Arbitrage           8.738950\n",
       "Relative Value            12.121208\n",
       "Short Selling              6.117772\n",
       "Funds Of Funds             7.070153\n",
       "dtype: float64"
      ]
     },
     "execution_count": 127,
     "metadata": {},
     "output_type": "execute_result"
    }
   ],
   "source": [
    "r.kurtosis(hfi)"
   ]
  },
  {
   "cell_type": "code",
   "execution_count": 193,
   "id": "42a283d0-5bea-4060-b5d9-ad6264f45d8f",
   "metadata": {},
   "outputs": [
    {
     "data": {
      "text/plain": [
       "CTA Global                 2.845022\n",
       "Global Macro               3.653278\n",
       "Short Selling              4.352758\n",
       "Long/Short Equity          4.472589\n",
       "Merger Arbitrage           4.520785\n",
       "Event Driven               5.543444\n",
       "Emerging Markets           5.941289\n",
       "Distressed Securities      6.231720\n",
       "Funds Of Funds             7.584725\n",
       "Relative Value            12.731096\n",
       "Equity Market Neutral     20.329621\n",
       "Convertible Arbitrage     23.001449\n",
       "Fixed Income Arbitrage    33.378729\n",
       "dtype: float64"
      ]
     },
     "execution_count": 193,
     "metadata": {},
     "output_type": "execute_result"
    }
   ],
   "source": [
    "r.kurtosis(hfi[\"2000\":]).sort_values()"
   ]
  },
  {
   "cell_type": "code",
   "execution_count": 128,
   "id": "22749bdd-6bf0-4760-b4da-138d273b6c72",
   "metadata": {},
   "outputs": [
    {
     "data": {
      "text/plain": [
       "Convertible Arbitrage     False\n",
       "CTA Global                 True\n",
       "Distressed Securities     False\n",
       "Emerging Markets          False\n",
       "Equity Market Neutral     False\n",
       "Event Driven              False\n",
       "Fixed Income Arbitrage    False\n",
       "Global Macro              False\n",
       "Long/Short Equity         False\n",
       "Merger Arbitrage          False\n",
       "Relative Value            False\n",
       "Short Selling             False\n",
       "Funds Of Funds            False\n",
       "dtype: bool"
      ]
     },
     "execution_count": 128,
     "metadata": {},
     "output_type": "execute_result"
    }
   ],
   "source": [
    "hfi.aggregate(r.normal_test)\n"
   ]
  },
  {
   "cell_type": "code",
   "execution_count": 66,
   "id": "8679137f-c4a3-44fe-819a-65ce7c1bc483",
   "metadata": {},
   "outputs": [
    {
     "data": {
      "text/plain": [
       "Convertible Arbitrage     0.016536\n",
       "CTA Global                0.023290\n",
       "Distressed Securities     0.017009\n",
       "Emerging Markets          0.032476\n",
       "Equity Market Neutral     0.008115\n",
       "Event Driven              0.016712\n",
       "Fixed Income Arbitrage    0.011517\n",
       "Global Macro              0.014694\n",
       "Long/Short Equity         0.019897\n",
       "Merger Arbitrage          0.009600\n",
       "Relative Value            0.011462\n",
       "Short Selling             0.047655\n",
       "Funds Of Funds            0.015536\n",
       "dtype: float64"
      ]
     },
     "execution_count": 66,
     "metadata": {},
     "output_type": "execute_result"
    }
   ],
   "source": [
    "# Standard Deviation of population\n",
    "hfi.std(ddof=0)"
   ]
  },
  {
   "cell_type": "code",
   "execution_count": 130,
   "id": "ca617ca9-74fc-4f70-8dd4-cc50a2c6c313",
   "metadata": {},
   "outputs": [
    {
     "data": {
      "text/plain": [
       "Global Macro              0.006579\n",
       "Merger Arbitrage          0.008875\n",
       "Equity Market Neutral     0.009566\n",
       "Funds Of Funds            0.012122\n",
       "Relative Value            0.012244\n",
       "CTA Global                0.012443\n",
       "Long/Short Equity         0.014051\n",
       "Distressed Securities     0.015185\n",
       "Event Driven              0.015429\n",
       "Fixed Income Arbitrage    0.017763\n",
       "Convertible Arbitrage     0.019540\n",
       "Short Selling             0.027283\n",
       "Emerging Markets          0.028039\n",
       "dtype: float64"
      ]
     },
     "execution_count": 130,
     "metadata": {},
     "output_type": "execute_result"
    }
   ],
   "source": [
    "## Semideviation\n",
    "hfi[hfi<0].std(ddof=0).sort_values()\n",
    "## We use boolean mask"
   ]
  },
  {
   "cell_type": "code",
   "execution_count": 188,
   "id": "6c0b5f06-357c-4a03-a677-c31fd780faf3",
   "metadata": {},
   "outputs": [
    {
     "data": {
      "text/plain": [
       "Fixed Income Arbitrage    0.003321\n",
       "Merger Arbitrage          0.003611\n",
       "Global Macro              0.005075\n",
       "Equity Market Neutral     0.005186\n",
       "Relative Value            0.005711\n",
       "Convertible Arbitrage     0.006681\n",
       "Funds Of Funds            0.007948\n",
       "Distressed Securities     0.009498\n",
       "Event Driven              0.010135\n",
       "CTA Global                0.010996\n",
       "Long/Short Equity         0.012139\n",
       "Emerging Markets          0.015276\n",
       "Short Selling             0.021240\n",
       "dtype: float64"
      ]
     },
     "execution_count": 188,
     "metadata": {},
     "output_type": "execute_result"
    }
   ],
   "source": [
    "r.semideviation(hfi[\"2009\":\"2018\"]).sort_values()"
   ]
  },
  {
   "cell_type": "code",
   "execution_count": 131,
   "id": "10307ace-06c6-4922-ac98-aa98ea407941",
   "metadata": {},
   "outputs": [],
   "source": [
    "#History VaR\n",
    "#VaR at 5% \n",
    "import numpy as np\n",
    "import pandas as pd\n",
    "\n",
    "def var_historic(r, level=0.05):\n",
    "    \"\"\"\n",
    "    Calculates the Value at Risk (VaR) using the historical method.\n",
    "    - r: pd.Series or pd.DataFrame representing returns.\n",
    "    - level: The percentile level to calculate VaR (default 5%).\n",
    "    Returns VaR values for each column in DataFrame or a single value for Series.\n",
    "    \"\"\"\n",
    "    if isinstance(r, pd.DataFrame):\n",
    "        return r.aggregate(var_historic, level=level)\n",
    "    elif isinstance(r, pd.Series):\n",
    "        return -np.percentile(r, level * 100)\n",
    "    else:\n",
    "        raise TypeError(\"Expected r to be a pd.Series or pd.DataFrame\")\n"
   ]
  },
  {
   "cell_type": "markdown",
   "id": "f9edbf20-2657-4dab-9514-14daca91d20f",
   "metadata": {},
   "source": [
    "Explain the sintax of the funtion?\n",
    "what aggregate function does? if i gonna call some  funtion over every column of the dataframe.\n",
    "when we call VaR the first thing it's going to check if the thing it is called with is a DataFrame, if it does, it gonna call the funtion on every column of the data frame, next time it's going to be called it isn't going to be a DataFrame.\n",
    "\n",
    "if it's called with something that is not a DataFrame we can check if it's a serie"
   ]
  },
  {
   "cell_type": "code",
   "execution_count": 75,
   "id": "16a56676-8a28-454d-966c-b5ecf87f9a16",
   "metadata": {},
   "outputs": [
    {
     "data": {
      "text/plain": [
       "Convertible Arbitrage     0.01576\n",
       "CTA Global                0.03169\n",
       "Distressed Securities     0.01966\n",
       "Emerging Markets          0.04247\n",
       "Equity Market Neutral     0.00814\n",
       "Event Driven              0.02535\n",
       "Fixed Income Arbitrage    0.00787\n",
       "Global Macro              0.01499\n",
       "Long/Short Equity         0.02598\n",
       "Merger Arbitrage          0.01047\n",
       "Relative Value            0.01174\n",
       "Short Selling             0.06783\n",
       "Funds Of Funds            0.02047\n",
       "dtype: float64"
      ]
     },
     "execution_count": 75,
     "metadata": {},
     "output_type": "execute_result"
    }
   ],
   "source": [
    "var_historic(hfi)"
   ]
  },
  {
   "cell_type": "markdown",
   "id": "a544f486-54c8-422a-8935-6180f2b05e53",
   "metadata": {},
   "source": [
    "There's 5% chance that you'r gonna loose about 1.5%  or more in the covertible arbitrage headfunds in any given month"
   ]
  },
  {
   "cell_type": "code",
   "execution_count": 84,
   "id": "35f804ed-1d7f-420c-87c5-7c59080626a1",
   "metadata": {},
   "outputs": [
    {
     "data": {
      "text/plain": [
       "Convertible Arbitrage    -0.01576\n",
       "CTA Global               -0.03169\n",
       "Distressed Securities    -0.01966\n",
       "Emerging Markets         -0.04247\n",
       "Equity Market Neutral    -0.00814\n",
       "Event Driven             -0.02535\n",
       "Fixed Income Arbitrage   -0.00787\n",
       "Global Macro             -0.01499\n",
       "Long/Short Equity        -0.02598\n",
       "Merger Arbitrage         -0.01047\n",
       "Relative Value           -0.01174\n",
       "Short Selling            -0.06783\n",
       "Funds Of Funds           -0.02047\n",
       "dtype: float64"
      ]
     },
     "execution_count": 84,
     "metadata": {},
     "output_type": "execute_result"
    }
   ],
   "source": [
    "r.var_historic(hfi)"
   ]
  },
  {
   "cell_type": "code",
   "execution_count": 86,
   "id": "be86375c-c3b8-4128-a5da-1369c7f6eed8",
   "metadata": {},
   "outputs": [],
   "source": [
    "# Parametric approach\n",
    "from scipy.stats import norm\n"
   ]
  },
  {
   "cell_type": "code",
   "execution_count": 87,
   "id": "d69b0755-95f4-435e-aa51-ba868dfce844",
   "metadata": {},
   "outputs": [],
   "source": [
    "z=norm.ppf(0.05)\n",
    "# how many standard deviations from means there's the cutoff where's getting a value higher or equal that that is 5%, it's a CD"
   ]
  },
  {
   "cell_type": "code",
   "execution_count": 90,
   "id": "480dcd0f-970a-4c8d-a2e6-94db706fc48d",
   "metadata": {},
   "outputs": [
    {
     "data": {
      "text/plain": [
       "Convertible Arbitrage     0.021691\n",
       "CTA Global                0.034235\n",
       "Distressed Securities     0.021032\n",
       "Emerging Markets          0.047164\n",
       "Equity Market Neutral     0.008850\n",
       "Event Driven              0.021144\n",
       "Fixed Income Arbitrage    0.014579\n",
       "Global Macro              0.018766\n",
       "Long/Short Equity         0.026397\n",
       "Merger Arbitrage          0.010435\n",
       "Relative Value            0.013061\n",
       "Short Selling             0.080086\n",
       "Funds Of Funds            0.021292\n",
       "dtype: float64"
      ]
     },
     "execution_count": 90,
     "metadata": {},
     "output_type": "execute_result"
    }
   ],
   "source": [
    "VaR=-(hfi.mean()+z*hfi.std(ddof=0))\n",
    "VaR"
   ]
  },
  {
   "cell_type": "code",
   "execution_count": 93,
   "id": "f696ff34-313f-4f06-a9de-b6e761ab2324",
   "metadata": {},
   "outputs": [
    {
     "data": {
      "text/plain": [
       "Convertible Arbitrage     0.021691\n",
       "CTA Global                0.034235\n",
       "Distressed Securities     0.021032\n",
       "Emerging Markets          0.047164\n",
       "Equity Market Neutral     0.008850\n",
       "Event Driven              0.021144\n",
       "Fixed Income Arbitrage    0.014579\n",
       "Global Macro              0.018766\n",
       "Long/Short Equity         0.026397\n",
       "Merger Arbitrage          0.010435\n",
       "Relative Value            0.013061\n",
       "Short Selling             0.080086\n",
       "Funds Of Funds            0.021292\n",
       "dtype: float64"
      ]
     },
     "execution_count": 93,
     "metadata": {},
     "output_type": "execute_result"
    }
   ],
   "source": [
    "r.var_gaussian(hfi)"
   ]
  },
  {
   "cell_type": "code",
   "execution_count": 105,
   "id": "f234eed2-286d-4f01-92e3-5cfe0c30f8a2",
   "metadata": {},
   "outputs": [
    {
     "data": {
      "text/plain": [
       "Convertible Arbitrage     0.025166\n",
       "CTA Global                0.033094\n",
       "Distressed Securities     0.025102\n",
       "Emerging Markets          0.053011\n",
       "Equity Market Neutral     0.010734\n",
       "Event Driven              0.025516\n",
       "Fixed Income Arbitrage    0.017881\n",
       "Global Macro              0.013581\n",
       "Long/Short Equity         0.027935\n",
       "Merger Arbitrage          0.012612\n",
       "Relative Value            0.016157\n",
       "Short Selling             0.066157\n",
       "Funds Of Funds            0.021576\n",
       "dtype: float64"
      ]
     },
     "execution_count": 105,
     "metadata": {},
     "output_type": "execute_result"
    }
   ],
   "source": [
    "\n",
    "r.var_gaussian(hfi,modified=True)"
   ]
  },
  {
   "cell_type": "code",
   "execution_count": 118,
   "id": "61ce0424-cb2d-45d1-9a53-be4d47e5820c",
   "metadata": {},
   "outputs": [
    {
     "data": {
      "text/html": [
       "<div>\n",
       "<style scoped>\n",
       "    .dataframe tbody tr th:only-of-type {\n",
       "        vertical-align: middle;\n",
       "    }\n",
       "\n",
       "    .dataframe tbody tr th {\n",
       "        vertical-align: top;\n",
       "    }\n",
       "\n",
       "    .dataframe thead th {\n",
       "        text-align: right;\n",
       "    }\n",
       "</style>\n",
       "<table border=\"1\" class=\"dataframe\">\n",
       "  <thead>\n",
       "    <tr style=\"text-align: right;\">\n",
       "      <th></th>\n",
       "      <th>Historic</th>\n",
       "      <th>Gaussian</th>\n",
       "      <th>Cornish-Fisher</th>\n",
       "    </tr>\n",
       "  </thead>\n",
       "  <tbody>\n",
       "    <tr>\n",
       "      <th>Convertible Arbitrage</th>\n",
       "      <td>0.01576</td>\n",
       "      <td>0.021691</td>\n",
       "      <td>0.025166</td>\n",
       "    </tr>\n",
       "    <tr>\n",
       "      <th>CTA Global</th>\n",
       "      <td>0.03169</td>\n",
       "      <td>0.034235</td>\n",
       "      <td>0.033094</td>\n",
       "    </tr>\n",
       "    <tr>\n",
       "      <th>Distressed Securities</th>\n",
       "      <td>0.01966</td>\n",
       "      <td>0.021032</td>\n",
       "      <td>0.025102</td>\n",
       "    </tr>\n",
       "    <tr>\n",
       "      <th>Emerging Markets</th>\n",
       "      <td>0.04247</td>\n",
       "      <td>0.047164</td>\n",
       "      <td>0.053011</td>\n",
       "    </tr>\n",
       "    <tr>\n",
       "      <th>Equity Market Neutral</th>\n",
       "      <td>0.00814</td>\n",
       "      <td>0.008850</td>\n",
       "      <td>0.010734</td>\n",
       "    </tr>\n",
       "    <tr>\n",
       "      <th>Event Driven</th>\n",
       "      <td>0.02535</td>\n",
       "      <td>0.021144</td>\n",
       "      <td>0.025516</td>\n",
       "    </tr>\n",
       "    <tr>\n",
       "      <th>Fixed Income Arbitrage</th>\n",
       "      <td>0.00787</td>\n",
       "      <td>0.014579</td>\n",
       "      <td>0.017881</td>\n",
       "    </tr>\n",
       "    <tr>\n",
       "      <th>Global Macro</th>\n",
       "      <td>0.01499</td>\n",
       "      <td>0.018766</td>\n",
       "      <td>0.013581</td>\n",
       "    </tr>\n",
       "    <tr>\n",
       "      <th>Long/Short Equity</th>\n",
       "      <td>0.02598</td>\n",
       "      <td>0.026397</td>\n",
       "      <td>0.027935</td>\n",
       "    </tr>\n",
       "    <tr>\n",
       "      <th>Merger Arbitrage</th>\n",
       "      <td>0.01047</td>\n",
       "      <td>0.010435</td>\n",
       "      <td>0.012612</td>\n",
       "    </tr>\n",
       "    <tr>\n",
       "      <th>Relative Value</th>\n",
       "      <td>0.01174</td>\n",
       "      <td>0.013061</td>\n",
       "      <td>0.016157</td>\n",
       "    </tr>\n",
       "    <tr>\n",
       "      <th>Short Selling</th>\n",
       "      <td>0.06783</td>\n",
       "      <td>0.080086</td>\n",
       "      <td>0.066157</td>\n",
       "    </tr>\n",
       "    <tr>\n",
       "      <th>Funds Of Funds</th>\n",
       "      <td>0.02047</td>\n",
       "      <td>0.021292</td>\n",
       "      <td>0.021576</td>\n",
       "    </tr>\n",
       "  </tbody>\n",
       "</table>\n",
       "</div>"
      ],
      "text/plain": [
       "                        Historic  Gaussian  Cornish-Fisher\n",
       "Convertible Arbitrage    0.01576  0.021691        0.025166\n",
       "CTA Global               0.03169  0.034235        0.033094\n",
       "Distressed Securities    0.01966  0.021032        0.025102\n",
       "Emerging Markets         0.04247  0.047164        0.053011\n",
       "Equity Market Neutral    0.00814  0.008850        0.010734\n",
       "Event Driven             0.02535  0.021144        0.025516\n",
       "Fixed Income Arbitrage   0.00787  0.014579        0.017881\n",
       "Global Macro             0.01499  0.018766        0.013581\n",
       "Long/Short Equity        0.02598  0.026397        0.027935\n",
       "Merger Arbitrage         0.01047  0.010435        0.012612\n",
       "Relative Value           0.01174  0.013061        0.016157\n",
       "Short Selling            0.06783  0.080086        0.066157\n",
       "Funds Of Funds           0.02047  0.021292        0.021576"
      ]
     },
     "execution_count": 118,
     "metadata": {},
     "output_type": "execute_result"
    }
   ],
   "source": [
    "var_list=[r.var_historic(hfi),r.var_gaussian(hfi),r.var_gaussian(hfi,modified=True)]\n",
    "var_comparison=pd.concat(var_list, axis=1)\n",
    "var_comparison.columns=[\"Historic\",\"Gaussian\", \"Cornish-Fisher\"]\n",
    "var_comparison"
   ]
  },
  {
   "cell_type": "code",
   "execution_count": 119,
   "id": "a5d80e7b-dd0b-46c3-aab3-be94173d81d5",
   "metadata": {},
   "outputs": [
    {
     "data": {
      "text/plain": [
       "<AxesSubplot:title={'center':'VaR Comparison'}>"
      ]
     },
     "execution_count": 119,
     "metadata": {},
     "output_type": "execute_result"
    },
    {
     "data": {
      "image/png": "[encoded data removed]",
      "text/plain": [
       "<Figure size 640x480 with 1 Axes>"
      ]
     },
     "metadata": {},
     "output_type": "display_data"
    }
   ],
   "source": [
    "var_comparison.plot.bar(title=\"VaR Comparison\")"
   ]
  },
  {
   "cell_type": "code",
   "execution_count": 140,
   "id": "b7b8e64c-3e03-4c6a-9143-2cefe78a3cc9",
   "metadata": {},
   "outputs": [
    {
     "data": {
      "text/plain": [
       "Convertible Arbitrage     0.036550\n",
       "CTA Global                0.041264\n",
       "Distressed Securities     0.036429\n",
       "Emerging Markets          0.072364\n",
       "Equity Market Neutral     0.016879\n",
       "Event Driven              0.038336\n",
       "Fixed Income Arbitrage    0.028257\n",
       "Global Macro              0.020629\n",
       "Long/Short Equity         0.041943\n",
       "Merger Arbitrage          0.019143\n",
       "Relative Value            0.024650\n",
       "Short Selling             0.096821\n",
       "Funds Of Funds            0.033207\n",
       "dtype: float64"
      ]
     },
     "execution_count": 140,
     "metadata": {},
     "output_type": "execute_result"
    }
   ],
   "source": [
    "r.cvar_historic(hfi)"
   ]
  }
 ],
 "metadata": {
  "kernelspec": {
   "display_name": "Python 3 (ipykernel)",
   "language": "python",
   "name": "python3"
  },
  "language_info": {
   "codemirror_mode": {
    "name": "ipython",
    "version": 3
   },
   "file_extension": ".py",
   "mimetype": "text/x-python",
   "name": "python",
   "nbconvert_exporter": "python",
   "pygments_lexer": "ipython3",
   "version": "3.9.13"
  }
 },
 "nbformat": 4,
 "nbformat_minor": 5
}
